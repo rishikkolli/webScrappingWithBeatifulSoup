{
  "nbformat": 4,
  "nbformat_minor": 0,
  "metadata": {
    "colab": {
      "provenance": []
    },
    "kernelspec": {
      "name": "python3",
      "display_name": "Python 3"
    },
    "language_info": {
      "name": "python"
    }
  },
  "cells": [
    {
      "cell_type": "code",
      "execution_count": null,
      "metadata": {
        "id": "7lZim-ggJqUv"
      },
      "outputs": [],
      "source": [
        "# Import the requests library for making HTTP requests\n",
        "import requests\n",
        "\n",
        "# Import the BeautifulSoup library for web scraping and parsing HTML\n",
        "from bs4 import BeautifulSoup\n",
        "\n",
        "# Import the pandas library for data manipulation and analysis\n",
        "import pandas as pd\n",
        "\n",
        "# Import the pyplot module of the matplotlib library for data visualization\n",
        "import matplotlib.pyplot as plt\n",
        "\n",
        "# Import the NumPy library for numerical computing with Python\n",
        "import numpy as np\n",
        "\n",
        "# Import the random module for generating random numbers\n",
        "import random"
      ]
    },
    {
      "cell_type": "code",
      "source": [
        "# URL of the web page to scrape\n",
        "url = 'https://www.basketball-reference.com/leagues/NBA_2023_totals.html'\n",
        "\n",
        "# Send an HTTP request to the URL\n",
        "response = requests.get(url)\n",
        "\n",
        "# Parse the HTML content of the page with BeautifulSoup\n",
        "soup = BeautifulSoup(response.content, 'html.parser')\n",
        "\n",
        "# Find the HTML table containing the player stats and extract the rows\n",
        "table = soup.find('table', {'id': 'totals_stats'})\n",
        "rows = table.find_all('tr')\n",
        "\n",
        "# Initialize an array to store the total points for each age group\n",
        "age_groups_players = np.zeros(50, dtype=int)\n",
        "\n",
        "# Iterate over the rows in the table (skipping the header row)\n",
        "for row in rows[1:]:\n",
        "    # Check that the row has at least 29 columns\n",
        "    if len(row.find_all('td')) >= 29:\n",
        "        # Extract the player's age as an integer\n",
        "        age = int(row.find_all('td')[2].text)\n",
        "        \n",
        "        # Extract the player's total points as an integer\n",
        "        points = int(row.find_all('td')[28].text)\n",
        "        \n",
        "        # Add the player's points to the corresponding age group\n",
        "        age_groups_players[age] += points\n",
        "\n",
        "# Print the total points for each age group\n",
        "for age, points in enumerate(age_groups_players):\n",
        "    if points > 0:\n",
        "        print(f\"Age {age}: {points}\")"
      ],
      "metadata": {
        "colab": {
          "base_uri": "https://localhost:8080/"
        },
        "id": "CH2CfM7DBSHn",
        "outputId": "c7eaa2f9-bfe7-4027-c14d-bcc516de71b0"
      },
      "execution_count": null,
      "outputs": [
        {
          "output_type": "stream",
          "name": "stdout",
          "text": [
            "Age 19: 5273\n",
            "Age 20: 12074\n",
            "Age 21: 19359\n",
            "Age 22: 23279\n",
            "Age 23: 32731\n",
            "Age 24: 32112\n",
            "Age 25: 25340\n",
            "Age 26: 30277\n",
            "Age 27: 25387\n",
            "Age 28: 20270\n",
            "Age 29: 15388\n",
            "Age 30: 18423\n",
            "Age 31: 9753\n",
            "Age 32: 15255\n",
            "Age 33: 7928\n",
            "Age 34: 13134\n",
            "Age 35: 2272\n",
            "Age 36: 3384\n",
            "Age 37: 1253\n",
            "Age 38: 1590\n",
            "Age 39: 17\n",
            "Age 42: 27\n"
          ]
        }
      ]
    },
    {
      "cell_type": "code",
      "source": [
        "# URL of the web page to scrape\n",
        "url = 'https://www.basketball-reference.com/leagues/NBA_2023_totals.html'\n",
        "\n",
        "# Send an HTTP request to the URL\n",
        "response = requests.get(url)\n",
        "\n",
        "# Parse the HTML content of the page with BeautifulSoup\n",
        "soup = BeautifulSoup(response.content, 'html.parser')\n",
        "\n",
        "# Find the HTML table containing the player stats and extract the rows\n",
        "table = soup.find('table', {'id': 'totals_stats'})\n",
        "rows = table.find_all('tr')\n",
        "\n",
        "# Initialize arrays to store the total points and number of players for each age group\n",
        "age_groups_points = np.zeros(50, dtype=int)\n",
        "age_groups_players = np.zeros(50, dtype=int)\n",
        "\n",
        "# Iterate over the rows in the table (skipping the header row)\n",
        "for row in rows[1:]:\n",
        "    # Check that the row has at least 29 columns\n",
        "    if len(row.find_all('td')) >= 29:\n",
        "        # Extract the player's age as an integer\n",
        "        age = int(row.find_all('td')[2].text)\n",
        "        \n",
        "        # Extract the player's total points as an integer\n",
        "        points = int(row.find_all('td')[28].text)\n",
        "        \n",
        "        # Add the player's points and increment the player count for the corresponding age group\n",
        "        age_groups_points[age] += points\n",
        "        age_groups_players[age] += 1\n",
        "\n",
        "# Compute the average points for each age group and print the results\n",
        "max_age = 0\n",
        "max_avg_points = 0\n",
        "for age in range(len(age_groups_points)):\n",
        "    if age_groups_players[age] > 0:\n",
        "        avg_points = age_groups_points[age] / age_groups_players[age]\n",
        "        print(f\"Age {age}: {avg_points:.1f} points per player ({age_groups_players[age]} players)\")\n",
        "        if avg_points > max_avg_points:\n",
        "            max_avg_points = avg_points\n",
        "            max_age = age"
      ],
      "metadata": {
        "colab": {
          "base_uri": "https://localhost:8080/"
        },
        "id": "sbdxtllxBSP6",
        "outputId": "d0eda63f-602a-42cf-ea82-2a8b05782d5a"
      },
      "execution_count": null,
      "outputs": [
        {
          "output_type": "stream",
          "name": "stdout",
          "text": [
            "Age 19: 376.6 points per player (14 players)\n",
            "Age 20: 402.5 points per player (30 players)\n",
            "Age 21: 395.1 points per player (49 players)\n",
            "Age 22: 423.3 points per player (55 players)\n",
            "Age 23: 389.7 points per player (84 players)\n",
            "Age 24: 509.7 points per player (63 players)\n",
            "Age 25: 383.9 points per player (66 players)\n",
            "Age 26: 593.7 points per player (51 players)\n",
            "Age 27: 507.7 points per player (50 players)\n",
            "Age 28: 633.4 points per player (32 players)\n",
            "Age 29: 404.9 points per player (38 players)\n",
            "Age 30: 558.3 points per player (33 players)\n",
            "Age 31: 487.6 points per player (20 players)\n",
            "Age 32: 610.2 points per player (25 players)\n",
            "Age 33: 466.4 points per player (17 players)\n",
            "Age 34: 525.4 points per player (25 players)\n",
            "Age 35: 252.4 points per player (9 players)\n",
            "Age 36: 282.0 points per player (12 players)\n",
            "Age 37: 417.7 points per player (3 players)\n",
            "Age 38: 1590.0 points per player (1 players)\n",
            "Age 39: 17.0 points per player (1 players)\n",
            "Age 42: 27.0 points per player (1 players)\n"
          ]
        }
      ]
    },
    {
      "cell_type": "code",
      "source": [
        "# Create a bar graph of the total points for each age group\n",
        "plt.bar(range(50), age_groups_points, color='blue')\n",
        "\n",
        "max_value = max(age_groups_points)\n",
        "\n",
        "# Iterate over each bar in the chart\n",
        "for i in range(len(age_groups_points)):\n",
        "    # If the bar's height matches the highest value\n",
        "    if age_groups_points[i] == max_value:\n",
        "        # Set its color to red\n",
        "        plt.gca().get_children()[i].set_color('red')\n",
        "\n",
        "# Add labels and title to the graph\n",
        "plt.xlabel('Age')\n",
        "plt.ylabel('Total points')\n",
        "plt.title('Total points scored by age group during the 22-23 NBA season')\n",
        "\n",
        "# Highlight the age group with the highest average points\n",
        "#plt.bar(max_age, age_groups_points[max_age], color='red')\n",
        "\n",
        "# Set the x-ticks\n",
        "plt.xticks(np.arange(0, 52, 2))\n",
        "\n",
        "# Show the graph\n",
        "plt.show()\n",
        "\n",
        "\n",
        "# Print the age group that scores the highest average points\n",
        "print(f\"Players age {max_age} scored the highest average points ({max_avg_points:.1f} points per player).\")"
      ],
      "metadata": {
        "colab": {
          "base_uri": "https://localhost:8080/",
          "height": 489
        },
        "id": "yD4JoNBdBo92",
        "outputId": "68a16680-ad90-4d67-e16f-c63bf8f0152c"
      },
      "execution_count": null,
      "outputs": [
        {
          "output_type": "display_data",
          "data": {
            "text/plain": [
              "<Figure size 640x480 with 1 Axes>"
            ],
            "image/png": "[encoded data removed]"
          },
          "metadata": {}
        },
        {
          "output_type": "stream",
          "name": "stdout",
          "text": [
            "Players age 38 scored the highest average points (1590.0 points per player).\n"
          ]
        }
      ]
    }
  ]
}