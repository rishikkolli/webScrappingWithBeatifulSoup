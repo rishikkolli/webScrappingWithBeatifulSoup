{
  "nbformat": 4,
  "nbformat_minor": 0,
  "metadata": {
    "colab": {
      "provenance": []
    },
    "kernelspec": {
      "name": "python3",
      "display_name": "Python 3"
    },
    "language_info": {
      "name": "python"
    }
  },
  "cells": [
    {
      "cell_type": "markdown",
      "source": [
        "**QUESTION 1: Which colleges are producing the most NBA players for players in 2022-2023?**"
      ],
      "metadata": {
        "id": "E5D4w6-kLLcu"
      }
    },
    {
      "cell_type": "code",
      "execution_count": null,
      "metadata": {
        "id": "inTychkr91Kq"
      },
      "outputs": [],
      "source": [
        "# Import the requests library for making HTTP requests\n",
        "import requests\n",
        "\n",
        "# Import the BeautifulSoup library for web scraping and parsing HTML\n",
        "from bs4 import BeautifulSoup\n",
        "\n",
        "# Import the pandas library for data manipulation and analysis\n",
        "import pandas as pd\n",
        "\n",
        "# Import the pyplot module of the matplotlib library for data visualization\n",
        "import matplotlib.pyplot as plt\n",
        "\n",
        "# Import the NumPy library for numerical computing with Python\n",
        "import numpy as np\n",
        "\n",
        "# Import the random module for generating random numbers\n",
        "import random"
      ]
    },
    {
      "cell_type": "code",
      "source": [
        "# Make a GET request to the desired URL and retrieve the HTML content\n",
        "webpage3 = requests.get(\"https://www.basketball-reference.com/teams/MIA/2023.html\")\n",
        "\n",
        "# Parse the HTML content using BeautifulSoup\n",
        "soup = BeautifulSoup(webpage3.content, 'html.parser')\n",
        "\n",
        "# Find all the HTML td tags that have a \"data-stat\" attribute with a value of \"college\"\n",
        "players = soup.find_all(\"td\", {\"data-stat\" : \"college\"})\n",
        "\n",
        "# Create an empty list to store the college names of the players\n",
        "players_colleges_more = []\n",
        "\n",
        "# Loop through each player's HTML tag and find any \"a\" tags (which contain the college name)\n",
        "for i in range(0, len(players)):\n",
        "  for item in players[i].find_all(\"a\"):\n",
        "    # Append the college name to the list of player colleges\n",
        "    players_colleges_more.append(item.text)  \n",
        "\n",
        "# Print the list of player colleges\n",
        "print(players_colleges_more)"
      ],
      "metadata": {
        "id": "awL2Bv8U-mDz",
        "colab": {
          "base_uri": "https://localhost:8080/"
        },
        "outputId": "0051db23-8e55-43b7-b6e3-dfeb6e327185"
      },
      "execution_count": null,
      "outputs": [
        {
          "output_type": "stream",
          "name": "stdout",
          "text": [
            "['Lewis (IL)', 'DePaul', 'Kentucky', 'NC State', 'Nevada', 'UC Santa Barbara', 'Kentucky', 'Marquette', 'Villanova', 'Wheeling University', 'Indiana', 'Williams', 'Michigan', 'Fresno State', 'UCLA', 'Marquette', 'Oakland', 'Indiana', 'NC State', 'Georgetown', 'Florida']\n"
          ]
        }
      ]
    },
    {
      "cell_type": "code",
      "source": [
        "# Create an empty string to store the new URL\n",
        "new_web_links = \"\"\n",
        "\n",
        "# Create an empty list to store the college names of the players\n",
        "players_colleges_more = []\n",
        "\n",
        "# Construct the new URL for the desired team and season\n",
        "new_web_links = \"https://www.basketball-reference.com/teams/\" + 'ATL' + \"/2023.html\"\n",
        "\n",
        "# Make a GET request to the desired URL and retrieve the HTML content\n",
        "webpage4 = requests.get(new_web_links)\n",
        "\n",
        "# Parse the HTML content using BeautifulSoup\n",
        "soup = BeautifulSoup(webpage4.content, 'html.parser')\n",
        "\n",
        "# Find all the HTML td tags that have a \"data-stat\" attribute with a value of \"college\"\n",
        "players = soup.find_all(\"td\", {\"data-stat\" : \"college\"})\n",
        "\n",
        "# Loop through each player's HTML tag and find any \"a\" tags (which contain the college name)\n",
        "for i in range(0, len(players)):\n",
        "  for item in players[i].find_all(\"a\"):\n",
        "    # Append the college name to the list of player colleges\n",
        "    players_colleges_more.append(item.text)\n",
        "\n",
        "# Print the list of player colleges\n",
        "print(players_colleges_more)"
      ],
      "metadata": {
        "id": "r67BhyzW-mFj",
        "colab": {
          "base_uri": "https://localhost:8080/"
        },
        "outputId": "db6eb0b7-c7cc-4558-ec3c-cb1791ae0ed6"
      },
      "execution_count": null,
      "outputs": [
        {
          "output_type": "stream",
          "name": "stdout",
          "text": [
            "['USC', 'Washington', 'Oklahoma', 'Duke', 'Wake Forest', 'Duke', 'Virginia', 'UCLA', 'Villanova', 'Florida State', 'Rhode Island', 'UConn', 'Lipscomb', 'Maryland', 'Texas', 'UNLV']\n"
          ]
        }
      ]
    },
    {
      "cell_type": "code",
      "source": [
        "# Make a GET request to the desired URL and retrieve the HTML content\n",
        "webpage = requests.get(\"https://geojango.com/pages/list-of-nba-teams\")\n",
        "\n",
        "# Parse the HTML content using BeautifulSoup\n",
        "soup = BeautifulSoup(webpage.content, 'html.parser')\n",
        "\n",
        "# Find all the HTML td tags that have a \"class\" attribute with a value of \"shogun-table-row\"\n",
        "table_data = soup.find_all(\"td\", {\"class\" : \"shogun-table-row\"})\n",
        "\n",
        "# Create an empty list to store the NBA team names\n",
        "nba_teams = []\n",
        "\n",
        "# Loop through each row of the table data and extract the team names\n",
        "for i in range(0, len(table_data)):\n",
        "  # Check if the current row is a team name row (every 5th row starting from the first)\n",
        "  if i % 5 == 0:\n",
        "    # Find the span tag containing the team name and append it to the list of team names\n",
        "    for item in table_data[i].find_all(\"span\"):\n",
        "      nba_teams.append(item.text)\n",
        "\n",
        "# Print the list of NBA team names\n",
        "print(nba_teams)\n",
        "#print(table_data)"
      ],
      "metadata": {
        "id": "cwioxnDA-mHK",
        "colab": {
          "base_uri": "https://localhost:8080/"
        },
        "outputId": "3b9e67c6-eb83-462d-d305-e2a73fc61f99"
      },
      "execution_count": null,
      "outputs": [
        {
          "output_type": "stream",
          "name": "stdout",
          "text": [
            "['Atlanta Hawks', 'Boston Celtics', 'Brooklyn Nets', 'Charlotte Hornets', 'Chicago Bulls', 'Cleveland Cavaliers', 'Dallas Mavericks', 'Denver Nuggets', 'Detroit Pistons', 'Golden State Warriors', 'Houston Rockets', 'Indiana Pacers', 'Los Angeles Clippers', 'Los Angeles Lakers', 'Memphis Grizzlies', 'Miami Heat', 'Milwaukee Bucks', 'Minnesota Timberwolves', 'New Orleans Pelicans', 'New York Knicks', 'Oklahoma City Thunder', 'Orlando Magic', 'Philadelphia 76ers', 'Phoenix Suns', 'Portland Trail Blazers', 'Sacramento Kings', 'San Antonio Spurs', 'Toronto Raptors', 'Utah Jazz', 'Washington Wizards']\n"
          ]
        }
      ]
    },
    {
      "cell_type": "code",
      "source": [
        "# Create an empty list to store the NBA team names with only their first 3 letters in uppercase\n",
        "nba_teams_three_letters = []\n",
        "\n",
        "# Loop through each NBA team name and add the first 3 letters (in uppercase) to the list\n",
        "for item in nba_teams:\n",
        "  nba_teams_three_letters.append(item[:3].upper())\n",
        "\n",
        "# Print the list of NBA team names with only their first 3 letters in uppercase\n",
        "print(nba_teams_three_letters)\n",
        "\n",
        "# Loop through each NBA team abbreviation and replace any abbreviations that are incorrect or outdated\n",
        "for i in range(0, len(nba_teams_three_letters)):\n",
        "  if nba_teams_three_letters[i] == \"BRO\":\n",
        "    nba_teams_three_letters[i] = \"BRK\"\n",
        "  if nba_teams_three_letters[i] == \"CHA\":\n",
        "    nba_teams_three_letters[i] = \"CHO\"\n",
        "  if nba_teams_three_letters[i] == \"GOL\":\n",
        "    nba_teams_three_letters[i] = \"GSW\"\n",
        "  if nba_teams_three_letters[i] == \"LOS\":\n",
        "    nba_teams_three_letters[i] = \"LAL\"\n",
        "  if nba_teams_three_letters[i] == \"LOS\":\n",
        "    nba_teams_three_letters[i] = \"LAC\"\n",
        "  if nba_teams_three_letters[i] == \"NEW\":\n",
        "    nba_teams_three_letters[i] = \"NYK\"\n",
        "  if nba_teams_three_letters[i] == \"NEW\":\n",
        "    nba_teams_three_letters[i] = \"NOP\"\n",
        "  if nba_teams_three_letters[i] == \"OKL\":\n",
        "    nba_teams_three_letters[i] = \"OKC\"\n",
        "  if nba_teams_three_letters[i] == \"SAN\":\n",
        "    nba_teams_three_letters[i] = \"SAS\"\n",
        "\n",
        "# Print the updated list of NBA team abbreviations\n",
        "print(nba_teams_three_letters)"
      ],
      "metadata": {
        "colab": {
          "base_uri": "https://localhost:8080/"
        },
        "id": "je4jbWJYN4eB",
        "outputId": "c3fee30a-8a6e-4718-8066-21940ecc49d0"
      },
      "execution_count": null,
      "outputs": [
        {
          "output_type": "stream",
          "name": "stdout",
          "text": [
            "['ATL', 'BOS', 'BRO', 'CHA', 'CHI', 'CLE', 'DAL', 'DEN', 'DET', 'GOL', 'HOU', 'IND', 'LOS', 'LOS', 'MEM', 'MIA', 'MIL', 'MIN', 'NEW', 'NEW', 'OKL', 'ORL', 'PHI', 'PHO', 'POR', 'SAC', 'SAN', 'TOR', 'UTA', 'WAS']\n",
            "['ATL', 'BOS', 'BRK', 'CHO', 'CHI', 'CLE', 'DAL', 'DEN', 'DET', 'GSW', 'HOU', 'IND', 'LAL', 'LAL', 'MEM', 'MIA', 'MIL', 'MIN', 'NYK', 'NYK', 'OKC', 'ORL', 'PHI', 'PHO', 'POR', 'SAC', 'SAS', 'TOR', 'UTA', 'WAS']\n"
          ]
        }
      ]
    },
    {
      "cell_type": "code",
      "source": [
        "# Initializing variables for web scraping\n",
        "new_web_links = \"\"\n",
        "players_colleges_more = []\n",
        "\n",
        "# Iterating over the NBA teams and dynamically generating URLs to the webpages that contain their respective rosters\n",
        "for i in range(0, len(nba_teams_three_letters)):\n",
        "  new_web_links = \"https://www.basketball-reference.com/teams/\" + nba_teams_three_letters[i] + \"/2023.html\"\n",
        "  webpage2 = requests.get(new_web_links)\n",
        "  soup = BeautifulSoup(webpage2.content, 'html.parser')\n",
        "\n",
        "  # Checking if the webpage was found\n",
        "  if soup.find(\"p\").text == \"We apologize, but we could not find the page requested by your device.\":\n",
        "    print(new_web_links)\n",
        "  \n",
        "  # Extracting the colleges of all the players on the team and appending them to the list players_colleges_more\n",
        "  players = soup.find_all(\"td\", {\"data-stat\" : \"college\"})\n",
        "  for i in range(0, len(players)):\n",
        "    for item in players[i].find_all(\"a\"):\n",
        "      players_colleges_more.append(item.text) \n",
        "\n",
        "print(players_colleges_more)"
      ],
      "metadata": {
        "id": "lzrHcRx5-mJa",
        "colab": {
          "base_uri": "https://localhost:8080/"
        },
        "outputId": "6f39efb2-6913-4a93-c834-f4849d178fa0"
      },
      "execution_count": null,
      "outputs": [
        {
          "output_type": "stream",
          "name": "stdout",
          "text": [
            "['USC', 'Washington', 'Oklahoma', 'Duke', 'Wake Forest', 'Duke', 'Virginia', 'UCLA', 'Villanova', 'Florida State', 'Rhode Island', 'UConn', 'Lipscomb', 'Maryland', 'Texas', 'UNLV', 'Colorado-Colorado Springs', 'Colorado', 'Marquette', 'Virginia', 'Tennessee', 'Duke', 'Vanderbilt', 'California', 'Virginia', 'Florida', 'Oklahoma State', 'Oregon', 'Oklahoma', 'Texas A&M', 'Bucknell', 'Alabama', 'Florida State', 'Pitt', 'Georgia', 'Denver', 'Baylor', 'Virginia', 'Liberty', 'Duke', 'George Washington', 'LSU', 'Xavier', 'UNC', 'LSU', \"Saint Mary's\", 'Villanova', 'Colorado', 'Florida', 'Pitt', 'UNC', 'Providence', 'University of Evansville', 'Missouri', 'Florida State', 'Kentucky', 'Auburn', 'Kentucky', 'Louisville', 'NC State', 'Butler', 'Kansas', 'Nebraska', 'Texas', 'Duke', 'UConn', 'Kansas', 'NC State', 'Nevada', 'Arizona', 'Kansas State', 'USC', 'Florida State', 'Illinois', 'UCLA', 'USC', 'UNC', 'UConn', 'Texas A&M', 'UNLV', 'Arizona', 'Radford', 'Arkansas', 'Radford', 'Louisville', 'Austin Peay State University', 'UCLA', 'Marquette', 'USC', 'Auburn', 'Michigan', 'Vanderbilt', 'Louisville', 'Texas', 'Penn State', 'Kansas State', 'Stanford', 'Virginia', 'USC', 'UNC', 'Utah State University', 'Belmont', 'UNC', 'Stanford', 'Michigan', 'UNLV', 'Arizona', 'Nevada', 'UNC', 'Colorado', 'Duke', 'Washington', 'South Carolina', 'Kansas', 'Miami (FL)', 'Georgia', 'Kansas', 'Arizona', 'Kentucky', 'Missouri', 'Georgetown', 'Arizona', 'Wake Forest', 'Texas A&M', 'UCLA', 'Indiana', 'Duke', 'Boston College', 'Villanova', 'Purdue', 'Memphis', 'Texas', 'Kentucky', 'Michigan', 'Colorado', 'Washington', 'Duke', 'Kansas State', 'Memphis', 'Rutgers University', 'Oregon', 'Seton Hall', 'Oklahoma State', 'Syracuse', 'Michigan', 'UCLA', 'Michigan State', 'Villanova', 'Washington State', 'Arkansas', 'University of Vermont', 'Alabama', 'Davidson', 'Virginia', 'Kansas', 'UW-Milwaukee', 'Toledo', 'Arizona', 'Oregon State', 'Memphis', 'Cincinnati', 'LSU', 'Auburn', 'Arizona State', 'USC', 'Ohio State', 'Kentucky', 'Wisconsin', 'Northwest Missouri State University', 'LSU', 'Texas', 'Kentucky', 'Oklahoma', 'Arizona', 'Florida', 'Gonzaga', 'Duquesne', 'Arizona', 'Vanderbilt', 'Maryland', 'Syracuse', 'Kentucky', 'Texas', 'Iowa State', 'Oregon', 'Louisville', 'Wake Forest', 'IUPUI', 'Baylor', 'Arizona', 'Oregon', 'Kentucky', 'Wichita State', 'Oklahoma', 'Kentucky', 'Miami (FL)', 'Michigan State', 'Gonzaga', 'Florida State', 'Kentucky', 'Ohio State', 'Texas', 'Villanova', 'Syracuse', 'Vanderbilt', 'Texas', 'Tulsa', 'Oregon', 'Kentucky', 'Wichita State', 'Oklahoma', 'Kentucky', 'Miami (FL)', 'Michigan State', 'Gonzaga', 'Florida State', 'Kentucky', 'Ohio State', 'Texas', 'Villanova', 'Syracuse', 'Vanderbilt', 'Texas', 'Tulsa', 'Duke', 'Loyola (MD)', 'Oregon', 'Purdue-Fort Wayne', 'Colorado State', 'Michigan State', 'Murray State', 'Michigan State', 'TCU', 'San Jose State', 'Gonzaga', 'Pitt', 'Stanford', 'Indiana State University', 'Wake Forest', 'Duke', 'Louisiana Tech', 'VCU', 'Richmond', 'Lewis (IL)', 'DePaul', 'Kentucky', 'NC State', 'Nevada', 'UC Santa Barbara', 'Kentucky', 'Marquette', 'Villanova', 'Wheeling University', 'Indiana', 'Williams', 'Michigan', 'Fresno State', 'UCLA', 'Marquette', 'Oakland', 'Indiana', 'NC State', 'Georgetown', 'Florida', 'West Virginia', 'Stanford', 'Duke', 'Arkansas', 'UCLA', 'Notre Dame', 'Yakima Valley Community College', 'Marquette', 'University of Northern Iowa', 'Texas A&M', 'Marquette', 'Illinois', 'Iowa State', 'Georgia', 'Washington', 'UCLA', 'LSU', 'Washington', 'Baylor', 'Duke', 'USC', 'William & Mary', 'Kentucky', 'Duke', 'Iowa', 'Ohio State', 'Virginia Tech', 'Notre Dame', 'Vanderbilt', 'Chattanooga', 'Memphis', 'Kentucky', 'Kentucky', 'Duke', 'Kansas', 'Houston', 'Villanova', 'Dayton', 'West Virginia', 'Western Kentucky', 'Texas', 'Memphis', 'Villanova', 'Duke', 'Ohio State', 'Oral Roberts', 'Tulsa', 'Nebraska', 'Kentucky', 'Kentucky', 'Duke', 'Kansas', 'Houston', 'Villanova', 'Dayton', 'West Virginia', 'Western Kentucky', 'Texas', 'Memphis', 'Villanova', 'Duke', 'Ohio State', 'Oral Roberts', 'Tulsa', 'Nebraska', 'Santa Clara', 'Arizona State', 'Arkansas', 'Maryland', 'Kentucky', 'Florida', 'TCU', 'Arkansas', 'Villanova', 'Oklahoma State', 'Wake Forest', 'Kentucky', 'Baylor', 'Gonzaga', 'Michigan', 'Duke', 'Oregon', 'Washington', 'UNC', 'Duke', 'Michigan', 'Gonzaga', 'Michigan', 'Michigan State', 'Tennessee', 'Stephen F. Austin', 'Auburn', 'Florida State', 'Syracuse', 'John A. Logan College', 'Iowa State', 'USC', 'SMU', 'Texas', 'Tennessee', 'DePaul', 'Kansas', 'Kentucky', 'Arizona State', 'Louisville', 'Texas A&M', 'San Diego State', 'Tennessee', 'USC', 'Georgetown', 'Texas Tech', 'Oregon', 'USC Upstate', 'Drexel', 'Louisville', 'Georgia Tech', \"Saint Mary's\", 'Arizona', 'Baylor', 'Wake Forest', 'Kentucky', 'Murray State', 'Wichita State', 'Vanderbilt', 'Washington', 'NC State', 'Texas', 'Kentucky', 'Oregon State', 'Syracuse', 'LSU', 'Weber State', 'Colorado', 'UNC', 'Tennessee', 'Duke', 'Washington', 'Kentucky', 'Duke', 'Florida State', 'LSU', 'Buffalo', 'Arizona', 'UNC', 'Iowa', 'Auburn', 'Baylor', 'Gonzaga', 'Kentucky', 'Maryland', 'Kentucky', 'Kentucky', 'USC', 'Ole Miss', 'Bowling Green', \"Saint Mary's\", 'Maryland', 'Pepperdine', 'Florida SouthWestern State College', 'Alabama', 'South Carolina', 'Utah State University', 'Duke', 'Ohio State', 'Ohio State', 'Creighton', 'Kentucky', 'Gonzaga', 'Baylor', 'Indiana', 'Florida State', 'Notre Dame', 'Western Kentucky', 'Louisville', 'Kansas', 'Seton Hall', \"St. John's\", 'Pitt', 'UNLV', 'Florida State', 'Oregon', 'New Mexico State', 'Wichita State', 'Indiana', 'Duke', 'Arizona', 'Memphis', 'Georgia Tech', 'Washington State', 'San Diego State', 'Nebraska', 'Utah', 'Rhode Island', 'Memphis', 'Rutgers University', 'Iowa', 'Georgetown']\n"
          ]
        }
      ]
    },
    {
      "cell_type": "code",
      "source": [
        "# Create an empty dictionary called players_colleges_more_dict\n",
        "players_colleges_more_dict = {}\n",
        "\n",
        "# Iterate through the list players_colleges_more\n",
        "for i in players_colleges_more:\n",
        "    # If the current element i is already a key in the dictionary, increment the associated value by 1\n",
        "    if i in players_colleges_more_dict:\n",
        "        players_colleges_more_dict[i] += 1\n",
        "    # If the current element i is not a key in the dictionary, add a new key-value pair with a value of 1\n",
        "    else:\n",
        "        players_colleges_more_dict[i] = 1\n",
        "\n",
        "# Print out the resulting dictionary\n",
        "print(players_colleges_more_dict)"
      ],
      "metadata": {
        "id": "UvbThDc91zuw",
        "colab": {
          "base_uri": "https://localhost:8080/"
        },
        "outputId": "d427d11a-0ad3-46c5-dcb1-3a1bec84587d"
      },
      "execution_count": null,
      "outputs": [
        {
          "output_type": "stream",
          "name": "stdout",
          "text": [
            "{'USC': 10, 'Washington': 8, 'Oklahoma': 5, 'Duke': 23, 'Wake Forest': 6, 'Virginia': 6, 'UCLA': 8, 'Villanova': 12, 'Florida State': 10, 'Rhode Island': 2, 'UConn': 3, 'Lipscomb': 1, 'Maryland': 5, 'Texas': 14, 'UNLV': 4, 'Colorado-Colorado Springs': 1, 'Colorado': 5, 'Marquette': 6, 'Tennessee': 5, 'Vanderbilt': 7, 'California': 1, 'Florida': 5, 'Oklahoma State': 3, 'Oregon': 9, 'Texas A&M': 5, 'Bucknell': 1, 'Alabama': 3, 'Pitt': 4, 'Georgia': 3, 'Denver': 1, 'Baylor': 7, 'Liberty': 1, 'George Washington': 1, 'LSU': 7, 'Xavier': 1, 'UNC': 9, \"Saint Mary's\": 3, 'Providence': 1, 'University of Evansville': 1, 'Missouri': 2, 'Kentucky': 30, 'Auburn': 5, 'Louisville': 7, 'NC State': 5, 'Butler': 1, 'Kansas': 9, 'Nebraska': 4, 'Nevada': 3, 'Arizona': 12, 'Kansas State': 3, 'Illinois': 2, 'Radford': 2, 'Arkansas': 5, 'Austin Peay State University': 1, 'Michigan': 8, 'Penn State': 1, 'Stanford': 4, 'Utah State University': 2, 'Belmont': 1, 'South Carolina': 2, 'Miami (FL)': 3, 'Georgetown': 4, 'Indiana': 5, 'Boston College': 1, 'Purdue': 1, 'Memphis': 8, 'Rutgers University': 2, 'Seton Hall': 2, 'Syracuse': 6, 'Michigan State': 6, 'Washington State': 2, 'University of Vermont': 1, 'Davidson': 1, 'UW-Milwaukee': 1, 'Toledo': 1, 'Oregon State': 2, 'Cincinnati': 1, 'Arizona State': 3, 'Ohio State': 8, 'Wisconsin': 1, 'Northwest Missouri State University': 1, 'Gonzaga': 8, 'Duquesne': 1, 'Iowa State': 3, 'IUPUI': 1, 'Wichita State': 4, 'Tulsa': 4, 'Loyola (MD)': 1, 'Purdue-Fort Wayne': 1, 'Colorado State': 1, 'Murray State': 2, 'TCU': 2, 'San Jose State': 1, 'Indiana State University': 1, 'Louisiana Tech': 1, 'VCU': 1, 'Richmond': 1, 'Lewis (IL)': 1, 'DePaul': 2, 'UC Santa Barbara': 1, 'Wheeling University': 1, 'Williams': 1, 'Fresno State': 1, 'Oakland': 1, 'West Virginia': 3, 'Notre Dame': 3, 'Yakima Valley Community College': 1, 'University of Northern Iowa': 1, 'William & Mary': 1, 'Iowa': 3, 'Virginia Tech': 1, 'Chattanooga': 1, 'Houston': 2, 'Dayton': 2, 'Western Kentucky': 3, 'Oral Roberts': 2, 'Santa Clara': 1, 'Stephen F. Austin': 1, 'John A. Logan College': 1, 'SMU': 1, 'San Diego State': 2, 'Texas Tech': 1, 'USC Upstate': 1, 'Drexel': 1, 'Georgia Tech': 2, 'Weber State': 1, 'Buffalo': 1, 'Ole Miss': 1, 'Bowling Green': 1, 'Pepperdine': 1, 'Florida SouthWestern State College': 1, 'Creighton': 1, \"St. John's\": 1, 'New Mexico State': 1, 'Utah': 1}\n"
          ]
        }
      ]
    },
    {
      "cell_type": "code",
      "source": [
        "# Sort the players_colleges_more_dict in descending order based on the values of the dictionary items\n",
        "sorted_players_colleges = sorted(players_colleges_more_dict.items(), key=lambda x:x[1], reverse=True)\n",
        "\n",
        "# Convert the sorted list of tuples back into a dictionary\n",
        "sorted_players_colleges = dict(sorted_players_colleges)\n",
        "\n",
        "# Extract the top 10 items as a new dictionary\n",
        "top_10_sorted_players_colleges = {k: sorted_players_colleges[k] for k in list(sorted_players_colleges)[:10]}\n",
        "\n",
        "# Extract the top 5 items as a new dictionary\n",
        "top_5_sorted_players_colleges = {k: sorted_players_colleges[k] for k in list(sorted_players_colleges)[:5]}\n",
        "\n",
        "# Print out the top 10 and top 5 dictionaries\n",
        "print(top_10_sorted_players_colleges)\n",
        "print(top_5_sorted_players_colleges)"
      ],
      "metadata": {
        "colab": {
          "base_uri": "https://localhost:8080/"
        },
        "id": "YuqF9tmODVv1",
        "outputId": "10b88ad6-8d68-42a4-bb0e-fa374931e837"
      },
      "execution_count": null,
      "outputs": [
        {
          "output_type": "stream",
          "name": "stdout",
          "text": [
            "{'Kentucky': 30, 'Duke': 23, 'Texas': 14, 'Villanova': 12, 'Arizona': 12, 'USC': 10, 'Florida State': 10, 'Oregon': 9, 'UNC': 9, 'Kansas': 9}\n",
            "{'Kentucky': 30, 'Duke': 23, 'Texas': 14, 'Villanova': 12, 'Arizona': 12}\n"
          ]
        }
      ]
    },
    {
      "cell_type": "code",
      "source": [
        "# Extract the keys and values from the top_10_sorted_players_colleges dictionary and store them in the names and values lists\n",
        "names = list(top_10_sorted_players_colleges.keys())\n",
        "values = list(top_10_sorted_players_colleges.values())\n",
        "\n",
        "# Generate a list of 10 random hexadecimal color codes and store them in the colors list\n",
        "colors = []\n",
        "for i in range(len(top_10_sorted_players_colleges)):\n",
        "    colors.append('#%06X' % random.randint(0, 0xFFFFFF))\n",
        "\n",
        "# Add text labels to each bar in the chart using the plt.text() function\n",
        "for i, v in enumerate(values):\n",
        "    plt.text(i, v, str(v), color='black', ha='center', fontweight='bold')\n",
        "\n",
        "# Rotate the x-axis labels by 45 degrees\n",
        "plt.xticks(rotation=45)\n",
        "\n",
        "# Set the title, x-axis label, and y-axis label of the chart\n",
        "plt.title('Top 10 Producing Colleges for NBA Players')\n",
        "plt.xlabel('Universities')\n",
        "plt.ylabel('Amount of Players')\n",
        "\n",
        "# Create a bar chart with the tick_label parameter set to the names list and the color parameter set to the colors list\n",
        "plt.bar(range(len(top_10_sorted_players_colleges)), values, tick_label=names, color=colors)\n",
        "\n",
        "# Display the chart\n",
        "plt.show()\n"
      ],
      "metadata": {
        "colab": {
          "base_uri": "https://localhost:8080/",
          "height": 530
        },
        "id": "br0G855fDWA2",
        "outputId": "f667d6b0-06db-4c12-baed-59cf4d4e85b2"
      },
      "execution_count": null,
      "outputs": [
        {
          "output_type": "display_data",
          "data": {
            "text/plain": [
              "<Figure size 640x480 with 1 Axes>"
            ],
            "image/png": "[encoded data removed]"
          },
          "metadata": {}
        }
      ]
    },
    {
      "cell_type": "code",
      "source": [
        "# Extract the keys and values from the top_5_sorted_players_colleges dictionary and store them in the names and values lists\n",
        "names = list(top_5_sorted_players_colleges.keys())\n",
        "values = list(top_5_sorted_players_colleges.values())\n",
        "\n",
        "# Generate a list of 5 random hexadecimal color codes and store them in the colors list\n",
        "colors = []\n",
        "for i in range(len(top_5_sorted_players_colleges)):\n",
        "    colors.append('#%06X' % random.randint(0, 0xFFFFFF))\n",
        "\n",
        "# Add text labels to each bar in the chart using the plt.text() function\n",
        "for i, v in enumerate(values):\n",
        "    plt.text(i, v, str(v), color='black', ha='center', fontweight='bold')\n",
        "\n",
        "# Rotate the x-axis labels by 45 degrees\n",
        "plt.xticks(rotation=45)\n",
        "\n",
        "# Set the title, x-axis label, and y-axis label of the chart\n",
        "plt.title('Top 5 Producing Colleges for NBA Players')\n",
        "plt.xlabel('Universities')\n",
        "plt.ylabel('Amount of Players')\n",
        "\n",
        "# Create a bar chart with the tick_label parameter set to the names list and the color parameter set to the colors list\n",
        "plt.bar(range(len(top_5_sorted_players_colleges)), values, tick_label=names, color = colors)\n",
        "\n",
        "# Display the chart\n",
        "plt.show()"
      ],
      "metadata": {
        "colab": {
          "base_uri": "https://localhost:8080/",
          "height": 513
        },
        "id": "ny7BiKOQGO4m",
        "outputId": "f13c4690-afae-47b0-a8f7-ae532ff308fa"
      },
      "execution_count": null,
      "outputs": [
        {
          "output_type": "display_data",
          "data": {
            "text/plain": [
              "<Figure size 640x480 with 1 Axes>"
            ],
            "image/png": "[encoded data removed]"
          },
          "metadata": {}
        }
      ]
    },
    {
      "cell_type": "code",
      "source": [
        "import pandas as pd\n",
        "\n",
        "# Create a sample DataFrame\n",
        "data = {'Country': ['USA', 'USA', 'USA', 'Canada', 'Canada', 'Mexico'],\n",
        "        'Year': [2019, 2020, 2021, 2019, 2020, 2021],\n",
        "        'GDP': [21.4, 21.5, 22.3, 1.7, 1.8, 1.9],\n",
        "        'Population': [328.2, 331.0, 333.7, 37.6, 37.9, 130.2]}\n",
        "df = pd.DataFrame(data)\n",
        "\n",
        "# Set the hierarchical index\n",
        "df = df.set_index(['Country', 'Year'])\n",
        "\n",
        "# Print the DataFrame with hierarchical indexing\n",
        "print(df)"
      ],
      "metadata": {
        "colab": {
          "base_uri": "https://localhost:8080/"
        },
        "id": "WPEJucHNGPCv",
        "outputId": "ef73cf55-02c2-4215-b1c1-7cdc22c0897d"
      },
      "execution_count": null,
      "outputs": [
        {
          "output_type": "stream",
          "name": "stdout",
          "text": [
            "               GDP  Population\n",
            "Country Year                  \n",
            "USA     2019  21.4       328.2\n",
            "        2020  21.5       331.0\n",
            "        2021  22.3       333.7\n",
            "Canada  2019   1.7        37.6\n",
            "        2020   1.8        37.9\n",
            "Mexico  2021   1.9       130.2\n"
          ]
        }
      ]
    },
    {
      "cell_type": "markdown",
      "source": [
        "**QUESTION 2: Which age group has scored the highest amount of average points this 2022-2023 season?**\n"
      ],
      "metadata": {
        "id": "SgRGfaXm7vtU"
      }
    },
    {
      "cell_type": "code",
      "source": [
        "# URL of the web page to scrape\n",
        "url = 'https://www.basketball-reference.com/leagues/NBA_2023_totals.html'\n",
        "\n",
        "# Send an HTTP request to the URL\n",
        "response = requests.get(url)\n",
        "\n",
        "# Parse the HTML content of the page with BeautifulSoup\n",
        "soup = BeautifulSoup(response.content, 'html.parser')\n",
        "\n",
        "# Find the HTML table containing the player stats and extract the rows\n",
        "table = soup.find('table', {'id': 'totals_stats'})\n",
        "rows = table.find_all('tr')\n",
        "\n",
        "# Initialize an array to store the total points for each age group\n",
        "age_groups_players = np.zeros(50, dtype=int)\n",
        "\n",
        "# Iterate over the rows in the table (skipping the header row)\n",
        "for row in rows[1:]:\n",
        "    # Check that the row has at least 29 columns\n",
        "    if len(row.find_all('td')) >= 29:\n",
        "        # Extract the player's age as an integer\n",
        "        age = int(row.find_all('td')[2].text)\n",
        "        \n",
        "        # Extract the player's total points as an integer\n",
        "        points = int(row.find_all('td')[28].text)\n",
        "        \n",
        "        # Add the player's points to the corresponding age group\n",
        "        age_groups_players[age] += points\n",
        "\n",
        "# Print the total points for each age group\n",
        "for age, points in enumerate(age_groups_players):\n",
        "    if points > 0:\n",
        "        print(f\"Age {age}: {points}\")"
      ],
      "metadata": {
        "colab": {
          "base_uri": "https://localhost:8080/",
          "height": 235
        },
        "id": "2NRvCUX08AD2",
        "outputId": "315e4e3f-d293-43fc-82e1-7b79de188050"
      },
      "execution_count": null,
      "outputs": [
        {
          "output_type": "error",
          "ename": "AttributeError",
          "evalue": "ignored",
          "traceback": [
            "\u001b[0;31m---------------------------------------------------------------------------\u001b[0m",
            "\u001b[0;31mAttributeError\u001b[0m                            Traceback (most recent call last)",
            "\u001b[0;32m<ipython-input-21-edd40ed1ee2b>\u001b[0m in \u001b[0;36m<cell line: 12>\u001b[0;34m()\u001b[0m\n\u001b[1;32m     10\u001b[0m \u001b[0;31m# Find the HTML table containing the player stats and extract the rows\u001b[0m\u001b[0;34m\u001b[0m\u001b[0;34m\u001b[0m\u001b[0m\n\u001b[1;32m     11\u001b[0m \u001b[0mtable\u001b[0m \u001b[0;34m=\u001b[0m \u001b[0msoup\u001b[0m\u001b[0;34m.\u001b[0m\u001b[0mfind\u001b[0m\u001b[0;34m(\u001b[0m\u001b[0;34m'table'\u001b[0m\u001b[0;34m,\u001b[0m \u001b[0;34m{\u001b[0m\u001b[0;34m'id'\u001b[0m\u001b[0;34m:\u001b[0m \u001b[0;34m'totals_stats'\u001b[0m\u001b[0;34m}\u001b[0m\u001b[0;34m)\u001b[0m\u001b[0;34m\u001b[0m\u001b[0;34m\u001b[0m\u001b[0m\n\u001b[0;32m---> 12\u001b[0;31m \u001b[0mrows\u001b[0m \u001b[0;34m=\u001b[0m \u001b[0mtable\u001b[0m\u001b[0;34m.\u001b[0m\u001b[0mfind_all\u001b[0m\u001b[0;34m(\u001b[0m\u001b[0;34m'tr'\u001b[0m\u001b[0;34m)\u001b[0m\u001b[0;34m\u001b[0m\u001b[0;34m\u001b[0m\u001b[0m\n\u001b[0m\u001b[1;32m     13\u001b[0m \u001b[0;34m\u001b[0m\u001b[0m\n\u001b[1;32m     14\u001b[0m \u001b[0;31m# Initialize an array to store the total points for each age group\u001b[0m\u001b[0;34m\u001b[0m\u001b[0;34m\u001b[0m\u001b[0m\n",
            "\u001b[0;31mAttributeError\u001b[0m: 'NoneType' object has no attribute 'find_all'"
          ]
        }
      ]
    },
    {
      "cell_type": "code",
      "source": [
        "# URL of the web page to scrape\n",
        "url = 'https://www.basketball-reference.com/leagues/NBA_2023_totals.html'\n",
        "\n",
        "# Send an HTTP request to the URL\n",
        "response = requests.get(url)\n",
        "\n",
        "# Parse the HTML content of the page with BeautifulSoup\n",
        "soup = BeautifulSoup(response.content, 'html.parser')\n",
        "\n",
        "# Find the HTML table containing the player stats and extract the rows\n",
        "table = soup.find('table', {'id': 'totals_stats'})\n",
        "rows = table.find_all('tr')\n",
        "\n",
        "# Initialize arrays to store the total points and number of players for each age group\n",
        "age_groups_points = np.zeros(50, dtype=int)\n",
        "age_groups_players = np.zeros(50, dtype=int)\n",
        "\n",
        "# Iterate over the rows in the table (skipping the header row)\n",
        "for row in rows[1:]:\n",
        "    # Check that the row has at least 29 columns\n",
        "    if len(row.find_all('td')) >= 29:\n",
        "        # Extract the player's age as an integer\n",
        "        age = int(row.find_all('td')[2].text)\n",
        "        \n",
        "        # Extract the player's total points as an integer\n",
        "        points = int(row.find_all('td')[28].text)\n",
        "        \n",
        "        # Add the player's points and increment the player count for the corresponding age group\n",
        "        age_groups_points[age] += points\n",
        "        age_groups_players[age] += 1\n",
        "\n",
        "# Compute the average points for each age group and print the results\n",
        "max_age = 0\n",
        "max_avg_points = 0\n",
        "for age in range(len(age_groups_points)):\n",
        "    if age_groups_players[age] > 0:\n",
        "        avg_points = age_groups_points[age] / age_groups_players[age]\n",
        "        print(f\"Age {age}: {avg_points:.1f} points per player ({age_groups_players[age]} players)\")\n",
        "        if avg_points > max_avg_points:\n",
        "            max_avg_points = avg_points\n",
        "            max_age = age\n"
      ],
      "metadata": {
        "id": "ynixp6yOMQKi",
        "outputId": "c4c7c6c3-d9d6-477e-d4c6-56bc65dffd5c",
        "colab": {
          "base_uri": "https://localhost:8080/",
          "height": 235
        }
      },
      "execution_count": null,
      "outputs": [
        {
          "output_type": "error",
          "ename": "AttributeError",
          "evalue": "ignored",
          "traceback": [
            "\u001b[0;31m---------------------------------------------------------------------------\u001b[0m",
            "\u001b[0;31mAttributeError\u001b[0m                            Traceback (most recent call last)",
            "\u001b[0;32m<ipython-input-22-9635dfcf56d5>\u001b[0m in \u001b[0;36m<cell line: 12>\u001b[0;34m()\u001b[0m\n\u001b[1;32m     10\u001b[0m \u001b[0;31m# Find the HTML table containing the player stats and extract the rows\u001b[0m\u001b[0;34m\u001b[0m\u001b[0;34m\u001b[0m\u001b[0m\n\u001b[1;32m     11\u001b[0m \u001b[0mtable\u001b[0m \u001b[0;34m=\u001b[0m \u001b[0msoup\u001b[0m\u001b[0;34m.\u001b[0m\u001b[0mfind\u001b[0m\u001b[0;34m(\u001b[0m\u001b[0;34m'table'\u001b[0m\u001b[0;34m,\u001b[0m \u001b[0;34m{\u001b[0m\u001b[0;34m'id'\u001b[0m\u001b[0;34m:\u001b[0m \u001b[0;34m'totals_stats'\u001b[0m\u001b[0;34m}\u001b[0m\u001b[0;34m)\u001b[0m\u001b[0;34m\u001b[0m\u001b[0;34m\u001b[0m\u001b[0m\n\u001b[0;32m---> 12\u001b[0;31m \u001b[0mrows\u001b[0m \u001b[0;34m=\u001b[0m \u001b[0mtable\u001b[0m\u001b[0;34m.\u001b[0m\u001b[0mfind_all\u001b[0m\u001b[0;34m(\u001b[0m\u001b[0;34m'tr'\u001b[0m\u001b[0;34m)\u001b[0m\u001b[0;34m\u001b[0m\u001b[0;34m\u001b[0m\u001b[0m\n\u001b[0m\u001b[1;32m     13\u001b[0m \u001b[0;34m\u001b[0m\u001b[0m\n\u001b[1;32m     14\u001b[0m \u001b[0;31m# Initialize arrays to store the total points and number of players for each age group\u001b[0m\u001b[0;34m\u001b[0m\u001b[0;34m\u001b[0m\u001b[0m\n",
            "\u001b[0;31mAttributeError\u001b[0m: 'NoneType' object has no attribute 'find_all'"
          ]
        }
      ]
    },
    {
      "cell_type": "code",
      "source": [
        "# Create a bar graph of the total points for each age group\n",
        "plt.bar(range(50), age_groups_points, color='blue')\n",
        "\n",
        "max_value = max(age_groups_points)\n",
        "\n",
        "# Iterate over each bar in the chart\n",
        "for i in range(len(age_groups_points)):\n",
        "    # If the bar's height matches the highest value\n",
        "    if age_groups_points[i] == max_value:\n",
        "        # Set its color to red\n",
        "        plt.gca().get_children()[i].set_color('red')\n",
        "\n",
        "# Add labels and title to the graph\n",
        "plt.xlabel('Age')\n",
        "plt.ylabel('Total points')\n",
        "plt.title('Total points scored by age group during the 22-23 NBA season')\n",
        "\n",
        "# Highlight the age group with the highest average points\n",
        "#plt.bar(max_age, age_groups_points[max_age], color='red')\n",
        "\n",
        "# Set the x-ticks\n",
        "plt.xticks(np.arange(0, 52, 2))\n",
        "\n",
        "# Show the graph\n",
        "plt.show()\n",
        "\n",
        "\n",
        "# Print the age group that scores the highest average points\n",
        "print(f\"Players age {max_age} scored the highest average points ({max_avg_points:.1f} points per player).\")"
      ],
      "metadata": {
        "colab": {
          "base_uri": "https://localhost:8080/",
          "height": 235
        },
        "id": "U862X4Iai1Y-",
        "outputId": "293c7bfd-c581-4dee-9bbd-cadbb0aa7cc1"
      },
      "execution_count": null,
      "outputs": [
        {
          "output_type": "error",
          "ename": "NameError",
          "evalue": "ignored",
          "traceback": [
            "\u001b[0;31m---------------------------------------------------------------------------\u001b[0m",
            "\u001b[0;31mNameError\u001b[0m                                 Traceback (most recent call last)",
            "\u001b[0;32m<ipython-input-20-606b7ffe1490>\u001b[0m in \u001b[0;36m<cell line: 2>\u001b[0;34m()\u001b[0m\n\u001b[1;32m      1\u001b[0m \u001b[0;31m# Create a bar graph of the total points for each age group\u001b[0m\u001b[0;34m\u001b[0m\u001b[0;34m\u001b[0m\u001b[0m\n\u001b[0;32m----> 2\u001b[0;31m \u001b[0mplt\u001b[0m\u001b[0;34m.\u001b[0m\u001b[0mbar\u001b[0m\u001b[0;34m(\u001b[0m\u001b[0mrange\u001b[0m\u001b[0;34m(\u001b[0m\u001b[0;36m50\u001b[0m\u001b[0;34m)\u001b[0m\u001b[0;34m,\u001b[0m \u001b[0mage_groups_points\u001b[0m\u001b[0;34m,\u001b[0m \u001b[0mcolor\u001b[0m\u001b[0;34m=\u001b[0m\u001b[0;34m'blue'\u001b[0m\u001b[0;34m)\u001b[0m\u001b[0;34m\u001b[0m\u001b[0;34m\u001b[0m\u001b[0m\n\u001b[0m\u001b[1;32m      3\u001b[0m \u001b[0;34m\u001b[0m\u001b[0m\n\u001b[1;32m      4\u001b[0m \u001b[0mmax_value\u001b[0m \u001b[0;34m=\u001b[0m \u001b[0mmax\u001b[0m\u001b[0;34m(\u001b[0m\u001b[0mage_groups_points\u001b[0m\u001b[0;34m)\u001b[0m\u001b[0;34m\u001b[0m\u001b[0;34m\u001b[0m\u001b[0m\n\u001b[1;32m      5\u001b[0m \u001b[0;34m\u001b[0m\u001b[0m\n",
            "\u001b[0;31mNameError\u001b[0m: name 'age_groups_points' is not defined"
          ]
        }
      ]
    },
    {
      "cell_type": "markdown",
      "source": [
        "**QUESTION 3: Who is the best player in each position(determined by field goal %)**\n"
      ],
      "metadata": {
        "id": "fIz4iaGJs2GF"
      }
    },
    {
      "cell_type": "code",
      "source": [
        "import requests\n",
        "from bs4 import BeautifulSoup\n",
        "\n",
        "# Make a request to the webpage\n",
        "url = \"https://www.basketball-reference.com/leagues/NBA_2023_totals.html\"\n",
        "response = requests.get(url)\n",
        "\n",
        "# Parse the HTML content using Beautiful Soup\n",
        "soup = BeautifulSoup(response.content, \"html.parser\")\n",
        "\n",
        "# Find the table containing player statistics\n",
        "table = soup.find(\"table\", {\"id\": \"totals_stats\"})\n",
        "\n",
        "# Find the position column index in the table\n",
        "position_index = None\n",
        "header_row = table.find(\"thead\").find_all(\"tr\")[0]\n",
        "header_cols = header_row.find_all(\"th\")\n",
        "for i, col in enumerate(header_cols):\n",
        "    if col.text.strip() == \"Pos\":\n",
        "        position_index = i\n",
        "        break\n",
        "\n",
        "# Find the field goal percentage column index in the table\n",
        "fg_index = None\n",
        "header_cols = header_row.find_all(\"th\")\n",
        "for i, col in enumerate(header_cols):\n",
        "    if col.text.strip() == \"FG%\":\n",
        "        fg_index = i\n",
        "        break\n",
        "\n",
        "# Find the rows containing player data\n",
        "rows = table.find(\"tbody\").find_all(\"tr\")\n",
        "\n",
        "# Loop through the rows to find the highest field goal percentage for each position\n",
        "best_fg_percentages = {}\n",
        "for row in rows:\n",
        "    row_data = row.find_all(\"td\")\n",
        "    if len(row_data) >= max(position_index, fg_index) + 1:\n",
        "        position = row_data[position_index].text.strip()\n",
        "        fg_percentage = float(row_data[fg_index].text.strip())\n",
        "        if position not in best_fg_percentages or fg_percentage > best_fg_percentages[position][1]:\n",
        "            best_fg_percentages[position] = (row_data[position_index + 1].text.strip(), fg_percentage)\n",
        "\n",
        "# Print the results\n",
        "print(\"The best players in their respective positions based on field goal percentage are:\")\n",
        "for position, data in best_fg_percentages.items():\n",
        "    player, fg_percentage = data\n",
        "    print(f\"{position} - {player} ({fg_percentage:.3f})\")\n"
      ],
      "metadata": {
        "colab": {
          "base_uri": "https://localhost:8080/"
        },
        "id": "sbSbUMbnvPky",
        "outputId": "e2061c2c-c771-4605-d211-20ce44ac8552"
      },
      "execution_count": null,
      "outputs": [
        {
          "output_type": "stream",
          "name": "stdout",
          "text": [
            "The best players in their respective positions based on field goal percentage are:\n",
            "23 - GSW (214.000)\n",
            "29 - TOT (181.000)\n",
            "25 - UTA (200.000)\n",
            "22 - SAC (206.000)\n",
            "24 - BOS (240.000)\n",
            "27 - CHI (204.000)\n",
            "28 - NYK (218.000)\n",
            "30 - IND (288.000)\n",
            "20 - HOU (187.000)\n",
            "21 - MIN (213.000)\n",
            "19 - HOU (120.000)\n",
            "32 - GSW (301.000)\n",
            "34 - GSW (273.000)\n",
            "26 - CLE (245.000)\n",
            "33 - PHI (161.000)\n",
            "31 - NOP (211.000)\n",
            "35 - TOT (135.000)\n",
            "36 - BOS (145.000)\n",
            "37 - PHO (98.000)\n",
            "42 - MIA (3.000)\n",
            "39 - GSW (1.000)\n",
            "38 - LAL (121.000)\n"
          ]
        }
      ]
    }
  ]
}